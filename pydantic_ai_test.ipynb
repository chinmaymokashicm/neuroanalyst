{
 "cells": [
  {
   "cell_type": "code",
   "execution_count": 1,
   "metadata": {},
   "outputs": [],
   "source": [
    "from dotenv import load_dotenv\n",
    "import os, httpx, json\n",
    "import nest_asyncio\n",
    "from typing import Optional\n",
    "\n",
    "from imagelib.datasets.bids import BIDSTree, SelectBIDSDatasetInfo\n",
    "\n",
    "from pydantic import BaseModel, Field\n",
    "from bids import BIDSLayout\n",
    "from pydantic_ai import Agent, RunContext\n",
    "from pydantic_ai.models.openai import OpenAIModel\n",
    "from pydantic_ai.providers.openai import OpenAIProvider\n",
    "from openai import AsyncOpenAI"
   ]
  },
  {
   "cell_type": "code",
   "execution_count": 2,
   "metadata": {},
   "outputs": [
    {
     "data": {
      "text/plain": [
       "'fa4ee01c1e764e0bbb79bd34c8dd8cdb'"
      ]
     },
     "execution_count": 2,
     "metadata": {},
     "output_type": "execute_result"
    }
   ],
   "source": [
    "load_dotenv()\n",
    "api_key = os.getenv(\"OPENAI_API_KEY\")\n",
    "api_key\n",
    "# nest_asyncio.apply()"
   ]
  },
  {
   "cell_type": "code",
   "execution_count": 3,
   "metadata": {},
   "outputs": [],
   "source": [
    "nest_asyncio.apply()"
   ]
  },
  {
   "cell_type": "code",
   "execution_count": 4,
   "metadata": {},
   "outputs": [],
   "source": [
    "client = AsyncOpenAI(\n",
    "    base_url=\"https://apimd.mdanderson.edu/dig/llm/llama31-70b/v1/\",\n",
    "    # api_key=\"unused\",\n",
    "    default_headers={\"Ocp-Apim-Subscription-Key\": api_key, \"Content-Type\": \"application/json\"}\n",
    ")\n",
    "provider = OpenAIProvider(openai_client=client)\n",
    "model = OpenAIModel(\"meta-llama/Llama-3.1-70B-Instruct\", provider=provider)\n",
    "# agent = Agent(model=model, system_prompt=\"You are a doctor at MD Anderson Cancer Center. You are tasked with diagnosing a patient with a rare form of cancer\", model_settings={\"temperature\": 0.2})\n",
    "\n",
    "# result = await agent.run(user_prompt=\"What is the meaning of cancer?\")\n",
    "# result"
   ]
  },
  {
   "cell_type": "markdown",
   "metadata": {},
   "source": [
    "## Building a Pydantic-AI agent that interprets a BIDS dataset"
   ]
  },
  {
   "cell_type": "code",
   "execution_count": 5,
   "metadata": {},
   "outputs": [],
   "source": [
    "# class BIDSDatasetInfo(BaseModel):\n",
    "#     dataset_name: str = Field(description=\"The name of the dataset. This should be a human-readable name that describes the dataset.\")\n",
    "#     dataset_description: str = Field(description=\"A description of the dataset. This should include information about the data, its purpose, and any relevant details.\")\n",
    "#     analysis_description: str = Field(description=\"A description of the analysis performed on the dataset. This should include information about the methods used, the results obtained, and any relevant details.\")\n",
    "#     analysis_results: str = Field(description=\"The results of the analysis performed on the dataset. This should include any relevant metrics, visualizations, or other information that summarizes the results.\")\n",
    "#     detailed_summary: str = Field(description=\"A detailed summary of the dataset and analysis. This should include any relevant information that is not covered in the other fields, such as limitations, future work, or other details.\")\n",
    "\n",
    "class BIDSDatasetInfo(BaseModel):\n",
    "    dataset_name: str = Field(description=\"The name of the dataset. This should be a human-readable name that describes the dataset.\")\n",
    "    n_files: int = Field(description=\"The number of files in the dataset. This should include all files in the dataset, including raw data, processed data, and metadata files.\")\n",
    "    \n",
    "bids_agent_system_prompt = f\"\"\"You are an expert in the BIDS (Brain Imaging Data Structure) format.\n",
    "You are tasked with answering questions about a BIDS dataset, including its structure, contents, and pipelines.\n",
    "You are provided with a BIDS dataset root directory. Load the dataset, analyze the files, and provide a summary of the dataset.\n",
    "\n",
    "Here is a gist of the structure -\n",
    "- The root of the directory consists of the dataset description file (dataset_description.json) along with the raw data (within sub-xxx/ses-xxx directories).\n",
    "- The dataset_description.json file contains the dataset name, description, and other relevant information.\n",
    "- Within the derivatives directory, you will find the results of the data pipelines/analysis performed on the raw data.\n",
    "- The dataset_description.json file within the derivatives directory contains the name and description of the analysis performed on the dataset.\n",
    "- The analysis results are stored in the derivatives directory, which may include processed data, visualizations, or other relevant information.\n",
    "- There could be relevant metadata files (e.g., README, CHANGELOG) that provide additional context about the dataset and analysis.\n",
    "- There could statistics files (e.g., in csv format) that provide additional context about the dataset and analysis.\n",
    "\n",
    "\"\"\"\n",
    "\n",
    "bids_agent: Agent = Agent(\n",
    "    model=model,\n",
    "    system_prompt=bids_agent_system_prompt,\n",
    "    result_type=BIDSDatasetInfo,\n",
    "    deps_type=str,\n",
    "    retries=3\n",
    ")\n",
    "\n",
    "@bids_agent.tool\n",
    "def get_bids_files(ctx: RunContext[str]) -> list[str]:\n",
    "    # Load the BIDS dataset and return all the files in the dataset\n",
    "    layout: BIDSLayout = BIDSLayout(ctx.deps)\n",
    "    files: list[str] = layout.get(return_type=\"file\")\n",
    "    return files\n",
    "\n",
    "# @bids_agent.tool_plain\n",
    "# def read_json(filepath: str) -> Optional[dict]:\n",
    "#     # Read a JSON file and return its contents\n",
    "#     if not filepath.endswith(\".json\"):\n",
    "#         print(f\"File {filepath} is not a JSON file.\")\n",
    "#         return None\n",
    "#     try:\n",
    "#         with open(filepath, \"r\") as f:\n",
    "#             data = json.load(f)\n",
    "#         return data\n",
    "#     except Exception as e:\n",
    "#         print(f\"Error reading JSON file: {e}\")\n",
    "#         return None"
   ]
  },
  {
   "cell_type": "code",
   "execution_count": 6,
   "metadata": {},
   "outputs": [],
   "source": [
    "bids_root: str = \"/Users/cmokashi/data/bids_datasets/open_neuro/ds005596-1.1.1\"\n",
    "\n",
    "result = bids_agent.run_sync(\n",
    "    user_prompt=\"Analyze the BIDS dataset and provide a detailed summary of the dataset and analysis.\",\n",
    "    deps=bids_root\n",
    ")"
   ]
  },
  {
   "cell_type": "code",
   "execution_count": 7,
   "metadata": {},
   "outputs": [
    {
     "data": {
      "text/plain": [
       "[ModelRequest(parts=[SystemPromptPart(content='You are an expert in the BIDS (Brain Imaging Data Structure) format.\\nYou are tasked with answering questions about a BIDS dataset, including its structure, contents, and pipelines.\\nYou are provided with a BIDS dataset root directory. Load the dataset, analyze the files, and provide a summary of the dataset.\\n\\nHere is a gist of the structure -\\n- The root of the directory consists of the dataset description file (dataset_description.json) along with the raw data (within sub-xxx/ses-xxx directories).\\n- The dataset_description.json file contains the dataset name, description, and other relevant information.\\n- Within the derivatives directory, you will find the results of the data pipelines/analysis performed on the raw data.\\n- The dataset_description.json file within the derivatives directory contains the name and description of the analysis performed on the dataset.\\n- The analysis results are stored in the derivatives directory, which may include processed data, visualizations, or other relevant information.\\n- There could be relevant metadata files (e.g., README, CHANGELOG) that provide additional context about the dataset and analysis.\\n- There could statistics files (e.g., in csv format) that provide additional context about the dataset and analysis.\\n\\n', timestamp=datetime.datetime(2025, 4, 7, 7, 14, 59, 556801, tzinfo=datetime.timezone.utc), dynamic_ref=None, part_kind='system-prompt'), UserPromptPart(content='Analyze the BIDS dataset and provide a detailed summary of the dataset and analysis.', timestamp=datetime.datetime(2025, 4, 7, 7, 14, 59, 556805, tzinfo=datetime.timezone.utc), part_kind='user-prompt')], kind='request'),\n",
       " ModelResponse(parts=[ToolCallPart(tool_name='final_result', args={'detailed_summary': 'The dataset and analysis provide insights into brain function and structure.', 'dataset_name': 'BIDS Dataset', 'dataset_description': 'The BIDS dataset contains raw and processed brain imaging data.', 'analysis_description': 'The analysis performed on the dataset includes data cleaning, preprocessing, and visualization.', 'analysis_results': 'The results of the analysis include statistics and visualizations of the data.'}, tool_call_id='0', part_kind='tool-call')], model_name='meta-llama/Llama-3.1-70B-Instruct', timestamp=datetime.datetime(2025, 4, 7, 7, 13, 12, tzinfo=datetime.timezone.utc), kind='response'),\n",
       " ModelRequest(parts=[ToolReturnPart(tool_name='final_result', content='Final result processed.', tool_call_id='0', timestamp=datetime.datetime(2025, 4, 7, 7, 15, 2, 352731, tzinfo=datetime.timezone.utc), part_kind='tool-return')], kind='request')]"
      ]
     },
     "execution_count": 7,
     "metadata": {},
     "output_type": "execute_result"
    }
   ],
   "source": [
    "result.all_messages()"
   ]
  },
  {
   "cell_type": "code",
   "execution_count": 10,
   "metadata": {},
   "outputs": [
    {
     "data": {
      "text/plain": [
       "{'dataset_name': 'BIDS Dataset',\n",
       " 'dataset_description': 'The BIDS dataset contains raw and processed brain imaging data.',\n",
       " 'analysis_description': 'The analysis performed on the dataset includes data cleaning, preprocessing, and visualization.',\n",
       " 'analysis_results': 'The results of the analysis include statistics and visualizations of the data.',\n",
       " 'detailed_summary': 'The dataset and analysis provide insights into brain function and structure.'}"
      ]
     },
     "execution_count": 10,
     "metadata": {},
     "output_type": "execute_result"
    }
   ],
   "source": [
    "result.data.model_dump()"
   ]
  }
 ],
 "metadata": {
  "kernelspec": {
   "display_name": "venv_neuroanalyst",
   "language": "python",
   "name": "python3"
  },
  "language_info": {
   "codemirror_mode": {
    "name": "ipython",
    "version": 3
   },
   "file_extension": ".py",
   "mimetype": "text/x-python",
   "name": "python",
   "nbconvert_exporter": "python",
   "pygments_lexer": "ipython3",
   "version": "3.12.2"
  }
 },
 "nbformat": 4,
 "nbformat_minor": 2
}
