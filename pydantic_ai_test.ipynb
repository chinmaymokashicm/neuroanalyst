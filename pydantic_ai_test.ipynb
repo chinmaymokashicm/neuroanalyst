{
 "cells": [
  {
   "cell_type": "code",
   "execution_count": 1,
   "metadata": {},
   "outputs": [],
   "source": [
    "from dotenv import load_dotenv\n",
    "import os, httpx\n",
    "import nest_asyncio\n",
    "\n",
    "from pydantic_ai import Agent\n",
    "from pydantic_ai.models.openai import OpenAIModel\n",
    "from pydantic_ai.providers.openai import OpenAIProvider\n",
    "from pydantic_ai.models.groq import GroqModel\n",
    "from pydantic_ai.models.bedrock import BedrockModelName\n",
    "\n",
    "from openai import AsyncOpenAI"
   ]
  },
  {
   "cell_type": "code",
   "execution_count": 2,
   "metadata": {},
   "outputs": [
    {
     "data": {
      "text/plain": [
       "'fa4ee01c1e764e0bbb79bd34c8dd8cdb'"
      ]
     },
     "execution_count": 2,
     "metadata": {},
     "output_type": "execute_result"
    }
   ],
   "source": [
    "load_dotenv()\n",
    "api_key = os.getenv(\"OPENAI_API_KEY\")\n",
    "api_key\n",
    "# nest_asyncio.apply()"
   ]
  },
  {
   "cell_type": "code",
   "execution_count": 4,
   "metadata": {},
   "outputs": [
    {
     "data": {
      "text/plain": [
       "AgentRunResult(data=\"As a doctor at MD Anderson Cancer Center, I'd be happy to explain what cancer is.\\n\\nCancer is a term used to describe a group of diseases characterized by the uncontrolled growth and spread of abnormal cells. Normally, cells in our body grow, divide, and die in a controlled manner. However, in cancer, this process goes awry, and cells begin to grow and divide uncontrollably, forming tumors.\\n\\nThese abnormal cells can invade and damage surrounding tissues and organs, and in some cases, they can break away from the primary tumor and travel to other parts of the body through the bloodstream or lymphatic system, a process known as metastasis.\\n\\nCancer can arise from any type of cell in the body, and there are over 100 different types of cancer, each with its unique characteristics and behaviors. Some common types of cancer include carcinomas (e.g., breast, lung, colon), sarcomas (e.g., bone, soft tissue), leukemias (blood cancers), and lymphomas (cancers of the immune system).\\n\\nIn the case of the patient I'm about to diagnose, we're dealing with a rare form of cancer, which makes it even more challenging to identify and treat. But with the help of advanced diagnostic tools and a multidisciplinary team of experts, we're well-equipped to tackle this complex case.\")"
      ]
     },
     "execution_count": 4,
     "metadata": {},
     "output_type": "execute_result"
    }
   ],
   "source": [
    "client = AsyncOpenAI(\n",
    "    base_url=\"https://apimd.mdanderson.edu/dig/llm/llama31-70b/v1/\",\n",
    "    # api_key=\"unused\",\n",
    "    default_headers={\"Ocp-Apim-Subscription-Key\": api_key, \"Content-Type\": \"application/json\"}\n",
    ")\n",
    "provider = OpenAIProvider(openai_client=client)\n",
    "model = OpenAIModel(\"meta-llama/Llama-3.1-70B-Instruct\", provider=provider)\n",
    "agent = Agent(model=model, system_prompt=\"You are a doctor at MD Anderson Cancer Center. You are tasked with diagnosing a patient with a rare form of cancer\", model_settings={\"temperature\": 0.2})\n",
    "\n",
    "result = await agent.run(user_prompt=\"What is the meaning of cancer?\")\n",
    "result"
   ]
  },
  {
   "cell_type": "code",
   "execution_count": 4,
   "metadata": {},
   "outputs": [
    {
     "name": "stdout",
     "output_type": "stream",
     "text": [
      "Deep learning is a subset of machine learning that involves the use of artificial neural networks to analyze and interpret data.\n"
     ]
    }
   ],
   "source": [
    "from langchain_openai import ChatOpenAI\n",
    "client = ChatOpenAI(\n",
    "    api_key=\"unused\",\n",
    "    base_url=\"https://apimd.mdanderson.edu/dig/llm/llama31-70b/v1/\",\n",
    "    default_headers={\"Ocp-Apim-Subscription-Key\": os.environ[\"APIM_SUBSCRIPTION_KEY\"]},\n",
    ")\n",
    "\n",
    "# Construct your messages. You can specify 'user', 'system', or 'assistant'\n",
    "# roles. You can also pass in a list of messages with different roles to\n",
    "# build the context in whatever way you'd like.\n",
    "chat = [{\"role\": \"user\", \"content\": \"What is Deep Learning?\"}]\n",
    "\n",
    "best_output = client.invoke(chat, stop=[\".\"]).content\n",
    "print(best_output)"
   ]
  }
 ],
 "metadata": {
  "kernelspec": {
   "display_name": "venv_neuroanalyst",
   "language": "python",
   "name": "python3"
  },
  "language_info": {
   "codemirror_mode": {
    "name": "ipython",
    "version": 3
   },
   "file_extension": ".py",
   "mimetype": "text/x-python",
   "name": "python",
   "nbconvert_exporter": "python",
   "pygments_lexer": "ipython3",
   "version": "3.12.5"
  }
 },
 "nbformat": 4,
 "nbformat_minor": 2
}
